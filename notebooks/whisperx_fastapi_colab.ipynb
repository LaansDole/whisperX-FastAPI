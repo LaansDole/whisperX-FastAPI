{
  "cells": [
    {
      "cell_type": "markdown",
      "metadata": {
        "id": "view-in-github",
        "colab_type": "text"
      },
      "source": [
        "<a href=\"https://colab.research.google.com/github/LaansDole/whisperX-FastAPI/blob/main/notebooks/whisperx_fastapi_colab.ipynb\" target=\"_parent\"><img src=\"https://colab.research.google.com/assets/colab-badge.svg\" alt=\"Open In Colab\"/></a>"
      ]
    },
    {
      "cell_type": "markdown",
      "metadata": {
        "id": "jgRmhCYcFPv9"
      },
      "source": [
        "# WhisperX FastAPI on Google Colab\n",
        "\n",
        "This notebook sets up and runs the WhisperX FastAPI project on Google Colab, utilizing its GPU for speech-to-text processing. The API service is exposed through a Cloudflare tunnel to allow external access.\n",
        "\n",
        "## Features\n",
        "\n",
        "- Speech-to-text transcription\n",
        "- Audio alignment\n",
        "- Speaker diarization\n",
        "- Combined services\n",
        "\n",
        "## Requirements\n",
        "\n",
        "- Google Colab with GPU runtime\n",
        "- Hugging Face token for model access\n",
        "- Cloudflare account (free tier works fine)\n",
        "\n",
        "## Setup Instructions\n",
        "\n",
        "1. Make sure you're running this notebook with GPU runtime\n",
        "2. Execute each cell in order\n",
        "3. Use the Cloudflare tunnel URL to access the API\n",
        "\n",
        "Let's start by checking if we have GPU access and setting up the environment."
      ]
    },
    {
      "cell_type": "code",
      "source": [
        "# Keep this tab alive to prevent Colab from disconnecting you { display-mode: \"form\" }\n",
        "\n",
        "#@markdown Press play on the music player that will appear below:\n",
        "%%html\n",
        "<audio src=\"https://oobabooga.github.io/silence.m4a\" controls>"
      ],
      "metadata": {
        "colab": {
          "base_uri": "https://localhost:8080/",
          "height": 75
        },
        "id": "UowbTabZFS0k",
        "outputId": "5d97f692-0396-4060-86e1-574c8362cba3"
      },
      "execution_count": 1,
      "outputs": [
        {
          "output_type": "display_data",
          "data": {
            "text/plain": [
              "<IPython.core.display.HTML object>"
            ],
            "text/html": [
              "<audio src=\"https://oobabooga.github.io/silence.m4a\" controls>\n"
            ]
          },
          "metadata": {}
        }
      ]
    },
    {
      "cell_type": "markdown",
      "metadata": {
        "id": "q0KVaZ_zFPwC"
      },
      "source": [
        "## 1. Install System Dependencies\n",
        "\n",
        "First, we need to install the required system packages and utilities."
      ]
    },
    {
      "cell_type": "code",
      "execution_count": null,
      "metadata": {
        "id": "A9foV_tYFPwC"
      },
      "outputs": [],
      "source": [
        "# Install ffmpeg for audio/video processing\n",
        "!apt-get update && apt-get install -y ffmpeg\n",
        "\n",
        "# Install git and other utilities\n",
        "!apt-get install -y git curl wget"
      ]
    },
    {
      "cell_type": "markdown",
      "metadata": {
        "id": "NfCgeb4JFPwC"
      },
      "source": [
        "## 2. Clone the WhisperX FastAPI Repository"
      ]
    },
    {
      "cell_type": "code",
      "execution_count": 2,
      "metadata": {
        "colab": {
          "base_uri": "https://localhost:8080/"
        },
        "id": "BlMBW9VAFPwC",
        "outputId": "4b2bff6e-35df-41a7-fb49-66cfba9b8002"
      },
      "outputs": [
        {
          "output_type": "stream",
          "name": "stdout",
          "text": [
            "Cloning into 'whisperX-FastAPI'...\n",
            "remote: Enumerating objects: 1265, done.\u001b[K\n",
            "remote: Counting objects: 100% (454/454), done.\u001b[K\n",
            "remote: Compressing objects: 100% (196/196), done.\u001b[K\n",
            "remote: Total 1265 (delta 316), reused 258 (delta 258), pack-reused 811 (from 2)\u001b[K\n",
            "Receiving objects: 100% (1265/1265), 40.47 MiB | 40.79 MiB/s, done.\n",
            "Resolving deltas: 100% (682/682), done.\n",
            "total 96\n",
            "drwxr-xr-x 9 root root 4096 Jun 24 17:28 .\n",
            "drwxr-xr-x 1 root root 4096 Jun 24 17:28 ..\n",
            "drwxr-xr-x 4 root root 4096 Jun 24 17:28 app\n",
            "drwxr-xr-x 2 root root 4096 Jun 24 17:28 .devcontainer\n",
            "-rw-r--r-- 1 root root  531 Jun 24 17:28 docker-compose.yml\n",
            "-rw-r--r-- 1 root root 1627 Jun 24 17:28 dockerfile\n",
            "-rw-r--r-- 1 root root  331 Jun 24 17:28 .dockerignore\n",
            "drwxr-xr-x 8 root root 4096 Jun 24 17:28 .git\n",
            "drwxr-xr-x 3 root root 4096 Jun 24 17:28 .github\n",
            "-rw-r--r-- 1 root root   52 Jun 24 17:28 .gitignore\n",
            "-rw-r--r-- 1 root root  207 Jun 24 17:28 .gitleaks.toml\n",
            "-rw-r--r-- 1 root root 1070 Jun 24 17:28 LICENSE\n",
            "-rw-r--r-- 1 root root   39 Jun 24 17:28 .markdownlint.json\n",
            "-rw-r--r-- 1 root root 1963 Jun 24 17:28 .pre-commit-config.yaml\n",
            "-rw-r--r-- 1 root root  532 Jun 24 17:28 pyproject.toml\n",
            "-rw-r--r-- 1 root root 9405 Jun 24 17:28 README.md\n",
            "drwxr-xr-x 2 root root 4096 Jun 24 17:28 requirements\n",
            "-rw-r--r-- 1 root root  153 Jun 24 17:28 requirements.txt\n",
            "-rw-r--r-- 1 root root   86 Jun 24 17:28 setup.cfg\n",
            "-rwxr-xr-x 1 root root   77 Jun 24 17:28 start.sh\n",
            "drwxr-xr-x 3 root root 4096 Jun 24 17:28 tests\n",
            "drwxr-xr-x 2 root root 4096 Jun 24 17:28 .vscode\n"
          ]
        }
      ],
      "source": [
        "# Clone the repository\n",
        "!rm -rf whisperX-FastAPI\n",
        "!git clone https://github.com/pavelzbornik/whisperX-FastAPI.git\n",
        "!cd whisperX-FastAPI && ls -la"
      ]
    },
    {
      "cell_type": "markdown",
      "metadata": {
        "id": "ueqDc01EFPwD"
      },
      "source": [
        "## 3. Create Python Virtual Environment and Install Dependencies\n",
        "\n",
        "We'll install PyTorch with CUDA support and all required dependencies."
      ]
    },
    {
      "cell_type": "code",
      "execution_count": null,
      "metadata": {
        "id": "nJrF6J1tFPwD"
      },
      "outputs": [],
      "source": [
        "# Install PyTorch with CUDA support\n",
        "!cd whisperX-FastAPI && pip install torch torchvision torchaudio --extra-index-url https://download.pytorch.org/whl/cu118\n",
        "\n",
        "# Install project requirements\n",
        "!cd whisperX-FastAPI && pip install -r requirements/prod.txt\n",
        "\n",
        "# Install additional packages for Colab environment\n",
        "!cd whisperX-FastAPI && pip install colorlog pyngrok python-dotenv"
      ]
    },
    {
      "cell_type": "markdown",
      "metadata": {
        "id": "xJQd3yTqFPwD"
      },
      "source": [
        "## 4. Set Up Environment Variables\n",
        "\n",
        "Configure the required environment variables for WhisperX. You'll need to enter your Hugging Face API token to access the models."
      ]
    },
    {
      "cell_type": "code",
      "execution_count": null,
      "metadata": {
        "id": "CyTAXbREFPwD"
      },
      "outputs": [],
      "source": [
        "import os\n",
        "\n",
        "# Check if we're already in the whisperX-FastAPI directory\n",
        "current_dir = os.path.basename(os.getcwd())\n",
        "if current_dir != \"whisperX-FastAPI\":\n",
        "    os.chdir(\"whisperX-FastAPI\")\n",
        "    print(f\"Changed directory to whisperX-FastAPI\")\n",
        "else:\n",
        "    print(\"Already in whisperX-FastAPI directory\")\n",
        "\n",
        "# Enter your Hugging Face token here\n",
        "HF_TOKEN = input(\"Enter your Hugging Face token: \")\n",
        "\n",
        "# Choose Whisper model size\n",
        "WHISPER_MODEL = input(\"Enter Whisper model size (default: tiny): \") or \"tiny\"\n",
        "\n",
        "# Set log level\n",
        "LOG_LEVEL = \"INFO\"\n",
        "\n",
        "# Create .env file\n",
        "env_content = f\"\"\"HF_TOKEN={HF_TOKEN}\n",
        "WHISPER_MODEL={WHISPER_MODEL}\n",
        "LOG_LEVEL={LOG_LEVEL}\n",
        "DEVICE=cuda\n",
        "COMPUTE_TYPE=float16\n",
        "DB_URL=sqlite:///records.db\n",
        "\"\"\"\n",
        "\n",
        "with open(\".env\", \"w\") as f:\n",
        "    f.write(env_content)\n",
        "\n",
        "print(\"Environment configuration completed.\")"
      ]
    },
    {
      "cell_type": "code",
      "source": [
        "from huggingface_hub import snapshot_download; snapshot_download(repo_id='openai/whisper-base')"
      ],
      "metadata": {
        "colab": {
          "base_uri": "https://localhost:8080/",
          "height": 67,
          "referenced_widgets": [
            "79b17013a15646d69786cbf373890b64",
            "a6883518fe7e426382414e002b8a03a8",
            "ba00125dcecf4973adaf2c3e80f6dd04",
            "f852d3bdae0742078b9a77055e1be7c9",
            "9935573353b648e4847eb4a0c33d1a4b",
            "9a5684e07e004a12b33b1839bda7da5d",
            "7cdaf642f74c4a739a2d5acfe8cf10a5",
            "3135311328384f508c98dec0f28c81c1",
            "cf9aa917f854435e9ead0278d74fd955",
            "1b353514e36c445eaf343fd607e8e077",
            "3a1a6a976b4847358e7d4ec3b92df4a1"
          ]
        },
        "id": "XsqtE5pL-E1T",
        "outputId": "f9dafce6-a82c-47e9-9a32-0900dbd1f3fc"
      },
      "execution_count": 13,
      "outputs": [
        {
          "output_type": "display_data",
          "data": {
            "text/plain": [
              "Fetching 16 files:   0%|          | 0/16 [00:00<?, ?it/s]"
            ],
            "application/vnd.jupyter.widget-view+json": {
              "version_major": 2,
              "version_minor": 0,
              "model_id": "79b17013a15646d69786cbf373890b64"
            }
          },
          "metadata": {}
        },
        {
          "output_type": "execute_result",
          "data": {
            "text/plain": [
              "'/root/.cache/huggingface/hub/models--openai--whisper-base/snapshots/e37978b90ca9030d5170a5c07aadb050351a65bb'"
            ],
            "application/vnd.google.colaboratory.intrinsic+json": {
              "type": "string"
            }
          },
          "metadata": {},
          "execution_count": 13
        }
      ]
    },
    {
      "cell_type": "markdown",
      "metadata": {
        "id": "Ji-K4diXFPwE"
      },
      "source": [
        "## 5. Start the FastAPI Service"
      ]
    },
    {
      "cell_type": "code",
      "metadata": {
        "colab": {
          "base_uri": "https://localhost:8080/",
          "height": 1000
        },
        "id": "25200ab8",
        "outputId": "e56406b1-477e-433c-8d4e-f7f400379cde"
      },
      "source": [
        "import os\n",
        "import signal\n",
        "import subprocess\n",
        "import threading\n",
        "import time\n",
        "from google.colab.output import serve_kernel_port_as_iframe\n",
        "\n",
        "# --- Configuration ---\n",
        "PORT = 8000\n",
        "LOG_CONFIG_PATH = \"app/uvicorn_log_conf.yaml\"\n",
        "APP_MODULE = \"app.main:app\"\n",
        "\n",
        "# --- Global variable to hold the server process ---\n",
        "server_process = None\n",
        "\n",
        "def kill_port(port):\n",
        "    \"\"\"Kills any process listening on the given port.\"\"\"\n",
        "    print(f\"Checking for and terminating any process on port {port}...\")\n",
        "    try:\n",
        "        result = subprocess.run([\"lsof\", \"-ti\", f\":{port}\"], capture_output=True, text=True)\n",
        "        if result.stdout:\n",
        "            pids = result.stdout.strip().split('\\n')\n",
        "            for pid in pids:\n",
        "                try:\n",
        "                    os.kill(int(pid), signal.SIGKILL)\n",
        "                    print(f\"Killed process {pid} on port {port}.\")\n",
        "                except (ProcessLookupError, ValueError):\n",
        "                    pass  # Process already gone\n",
        "    except FileNotFoundError:\n",
        "        print(\"`lsof` command not found. Skipping port clearing.\")\n",
        "    except Exception as e:\n",
        "        print(f\"An error occurred while trying to kill port {port}: {e}\")\n",
        "\n",
        "def start_server():\n",
        "    \"\"\"Starts the Uvicorn server in a background thread.\"\"\"\n",
        "    global server_process\n",
        "\n",
        "    # Ensure we are in the correct directory\n",
        "    if os.path.basename(os.getcwd()) != \"whisperX-FastAPI\":\n",
        "        os.chdir(\"whisperX-FastAPI\")\n",
        "        print(\"Changed directory to whisperX-FastAPI\")\n",
        "\n",
        "    # First, ensure the port is free\n",
        "    kill_port(PORT)\n",
        "\n",
        "    # Command to start Uvicorn\n",
        "    command = [\n",
        "        \"uvicorn\",\n",
        "        APP_MODULE,\n",
        "        \"--host\", \"0.0.0.0\",\n",
        "        \"--port\", str(PORT),\n",
        "        \"--log-config\", LOG_CONFIG_PATH,\n",
        "        \"--log-level\", \"info\"\n",
        "    ]\n",
        "\n",
        "    # Start the server as a background process\n",
        "    print(\"Starting FastAPI server...\")\n",
        "    server_process = subprocess.Popen(command)\n",
        "    print(f\"Server process started with PID: {server_process.pid}\")\n",
        "\n",
        "    # Wait a moment for the server to initialize\n",
        "    time.sleep(12)\n",
        "\n",
        "    # Expose the port to a public URL\n",
        "    print(f\"Exposing port {PORT} as an iframe...\")\n",
        "    serve_kernel_port_as_iframe(port=PORT, height=800)\n",
        "\n",
        "def stop_server():\n",
        "    \"\"\"Stops the background Uvicorn server.\"\"\"\n",
        "    global server_process\n",
        "    if server_process:\n",
        "        print(f\"Stopping server process with PID: {server_process.pid}...\")\n",
        "        server_process.terminate()\n",
        "        try:\n",
        "            # Wait for the process to terminate\n",
        "            server_process.wait(timeout=10)\n",
        "            print(\"Server stopped successfully.\")\n",
        "        except subprocess.TimeoutExpired:\n",
        "            print(\"Server did not terminate gracefully. Forcing shutdown...\")\n",
        "            server_process.kill()\n",
        "            print(\"Server forced to shut down.\")\n",
        "        server_process = None\n",
        "    else:\n",
        "        print(\"Server is not running.\")\n",
        "\n",
        "# --- Main execution ---\n",
        "if __name__ == \"__main__\":\n",
        "    try:\n",
        "        start_server()\n",
        "        # The server is running in the background.\n",
        "        # The script will keep running, allowing the server to stay active.\n",
        "        # To stop the server, you would call stop_server() in another cell.\n",
        "        print(\"\\nServer is running in the background.\")\n",
        "        print(\"To stop the server, call the stop_server() function.\")\n",
        "        # Keep the main thread alive\n",
        "        while True:\n",
        "            time.sleep(1)\n",
        "    except KeyboardInterrupt:\n",
        "        print(\"\\nKeyboard interrupt received. Shutting down server...\")\n",
        "        stop_server()\n",
        "        print(\"Shutdown complete.\")\n"
      ],
      "execution_count": 14,
      "outputs": [
        {
          "output_type": "stream",
          "name": "stdout",
          "text": [
            "Checking for and terminating any process on port 8000...\n",
            "Starting FastAPI server...\n",
            "Server process started with PID: 5240\n",
            "Exposing port 8000 as an iframe...\n"
          ]
        },
        {
          "output_type": "display_data",
          "data": {
            "text/plain": [
              "<IPython.core.display.Javascript object>"
            ],
            "application/javascript": [
              "(async (port, path, width, height, cache, element) => {\n",
              "    if (!google.colab.kernel.accessAllowed && !cache) {\n",
              "      return;\n",
              "    }\n",
              "    element.appendChild(document.createTextNode(''));\n",
              "    const url = await google.colab.kernel.proxyPort(port, {cache});\n",
              "    const iframe = document.createElement('iframe');\n",
              "    iframe.src = new URL(path, url).toString();\n",
              "    iframe.height = height;\n",
              "    iframe.width = width;\n",
              "    iframe.style.border = 0;\n",
              "    iframe.allow = [\n",
              "        'accelerometer',\n",
              "        'autoplay',\n",
              "        'camera',\n",
              "        'clipboard-read',\n",
              "        'clipboard-write',\n",
              "        'gyroscope',\n",
              "        'magnetometer',\n",
              "        'microphone',\n",
              "        'serial',\n",
              "        'usb',\n",
              "        'xr-spatial-tracking',\n",
              "    ].join('; ');\n",
              "    element.appendChild(iframe);\n",
              "  })(8000, \"/\", \"100%\", 800, false, window.element)"
            ]
          },
          "metadata": {}
        },
        {
          "output_type": "stream",
          "name": "stdout",
          "text": [
            "\n",
            "Server is running in the background.\n",
            "To stop the server, call the stop_server() function.\n",
            "\n",
            "Keyboard interrupt received. Shutting down server...\n",
            "Stopping server process with PID: 5240...\n",
            "Server stopped successfully.\n",
            "Shutdown complete.\n"
          ]
        }
      ]
    },
    {
      "cell_type": "markdown",
      "metadata": {
        "id": "9KkSIjl4FPwG"
      },
      "source": [
        "## Cleanup\n",
        "\n",
        "Finally, clean up any temporary files and free up GPU memory."
      ]
    },
    {
      "cell_type": "code",
      "execution_count": null,
      "metadata": {
        "id": "Z0e9m8RoFPwG"
      },
      "outputs": [],
      "source": [
        "# Clean up temporary files\n",
        "!rm -f cloudflared-linux-amd64.deb\n",
        "\n",
        "# Free up GPU memory (if any is still in use)\n",
        "import torch\n",
        "if torch.cuda.is_available():\n",
        "    torch.cuda.empty_cache()\n",
        "    print(\"GPU memory cleared.\")\n",
        "\n",
        "print(\"Cleanup completed. You can now close this notebook or run it again if needed.\")"
      ]
    }
  ],
  "metadata": {
    "colab": {
      "gpuType": "T4",
      "provenance": [],
      "include_colab_link": true
    },
    "kernelspec": {
      "display_name": "Python 3",
      "name": "python3"
    },
    "language_info": {
      "codemirror_mode": {
        "name": "ipython",
        "version": 3
      },
      "file_extension": ".py",
      "mimetype": "text/x-python",
      "name": "python",
      "nbconvert_exporter": "python",
      "pygments_lexer": "ipython3",
      "version": "3.10.0"
    },
    "accelerator": "GPU",
    "widgets": {
      "application/vnd.jupyter.widget-state+json": {
        "79b17013a15646d69786cbf373890b64": {
          "model_module": "@jupyter-widgets/controls",
          "model_name": "HBoxModel",
          "model_module_version": "1.5.0",
          "state": {
            "_dom_classes": [],
            "_model_module": "@jupyter-widgets/controls",
            "_model_module_version": "1.5.0",
            "_model_name": "HBoxModel",
            "_view_count": null,
            "_view_module": "@jupyter-widgets/controls",
            "_view_module_version": "1.5.0",
            "_view_name": "HBoxView",
            "box_style": "",
            "children": [
              "IPY_MODEL_a6883518fe7e426382414e002b8a03a8",
              "IPY_MODEL_ba00125dcecf4973adaf2c3e80f6dd04",
              "IPY_MODEL_f852d3bdae0742078b9a77055e1be7c9"
            ],
            "layout": "IPY_MODEL_9935573353b648e4847eb4a0c33d1a4b"
          }
        },
        "a6883518fe7e426382414e002b8a03a8": {
          "model_module": "@jupyter-widgets/controls",
          "model_name": "HTMLModel",
          "model_module_version": "1.5.0",
          "state": {
            "_dom_classes": [],
            "_model_module": "@jupyter-widgets/controls",
            "_model_module_version": "1.5.0",
            "_model_name": "HTMLModel",
            "_view_count": null,
            "_view_module": "@jupyter-widgets/controls",
            "_view_module_version": "1.5.0",
            "_view_name": "HTMLView",
            "description": "",
            "description_tooltip": null,
            "layout": "IPY_MODEL_9a5684e07e004a12b33b1839bda7da5d",
            "placeholder": "​",
            "style": "IPY_MODEL_7cdaf642f74c4a739a2d5acfe8cf10a5",
            "value": "Fetching 16 files: 100%"
          }
        },
        "ba00125dcecf4973adaf2c3e80f6dd04": {
          "model_module": "@jupyter-widgets/controls",
          "model_name": "FloatProgressModel",
          "model_module_version": "1.5.0",
          "state": {
            "_dom_classes": [],
            "_model_module": "@jupyter-widgets/controls",
            "_model_module_version": "1.5.0",
            "_model_name": "FloatProgressModel",
            "_view_count": null,
            "_view_module": "@jupyter-widgets/controls",
            "_view_module_version": "1.5.0",
            "_view_name": "ProgressView",
            "bar_style": "success",
            "description": "",
            "description_tooltip": null,
            "layout": "IPY_MODEL_3135311328384f508c98dec0f28c81c1",
            "max": 16,
            "min": 0,
            "orientation": "horizontal",
            "style": "IPY_MODEL_cf9aa917f854435e9ead0278d74fd955",
            "value": 16
          }
        },
        "f852d3bdae0742078b9a77055e1be7c9": {
          "model_module": "@jupyter-widgets/controls",
          "model_name": "HTMLModel",
          "model_module_version": "1.5.0",
          "state": {
            "_dom_classes": [],
            "_model_module": "@jupyter-widgets/controls",
            "_model_module_version": "1.5.0",
            "_model_name": "HTMLModel",
            "_view_count": null,
            "_view_module": "@jupyter-widgets/controls",
            "_view_module_version": "1.5.0",
            "_view_name": "HTMLView",
            "description": "",
            "description_tooltip": null,
            "layout": "IPY_MODEL_1b353514e36c445eaf343fd607e8e077",
            "placeholder": "​",
            "style": "IPY_MODEL_3a1a6a976b4847358e7d4ec3b92df4a1",
            "value": " 16/16 [00:00&lt;00:00, 1760.09it/s]"
          }
        },
        "9935573353b648e4847eb4a0c33d1a4b": {
          "model_module": "@jupyter-widgets/base",
          "model_name": "LayoutModel",
          "model_module_version": "1.2.0",
          "state": {
            "_model_module": "@jupyter-widgets/base",
            "_model_module_version": "1.2.0",
            "_model_name": "LayoutModel",
            "_view_count": null,
            "_view_module": "@jupyter-widgets/base",
            "_view_module_version": "1.2.0",
            "_view_name": "LayoutView",
            "align_content": null,
            "align_items": null,
            "align_self": null,
            "border": null,
            "bottom": null,
            "display": null,
            "flex": null,
            "flex_flow": null,
            "grid_area": null,
            "grid_auto_columns": null,
            "grid_auto_flow": null,
            "grid_auto_rows": null,
            "grid_column": null,
            "grid_gap": null,
            "grid_row": null,
            "grid_template_areas": null,
            "grid_template_columns": null,
            "grid_template_rows": null,
            "height": null,
            "justify_content": null,
            "justify_items": null,
            "left": null,
            "margin": null,
            "max_height": null,
            "max_width": null,
            "min_height": null,
            "min_width": null,
            "object_fit": null,
            "object_position": null,
            "order": null,
            "overflow": null,
            "overflow_x": null,
            "overflow_y": null,
            "padding": null,
            "right": null,
            "top": null,
            "visibility": null,
            "width": null
          }
        },
        "9a5684e07e004a12b33b1839bda7da5d": {
          "model_module": "@jupyter-widgets/base",
          "model_name": "LayoutModel",
          "model_module_version": "1.2.0",
          "state": {
            "_model_module": "@jupyter-widgets/base",
            "_model_module_version": "1.2.0",
            "_model_name": "LayoutModel",
            "_view_count": null,
            "_view_module": "@jupyter-widgets/base",
            "_view_module_version": "1.2.0",
            "_view_name": "LayoutView",
            "align_content": null,
            "align_items": null,
            "align_self": null,
            "border": null,
            "bottom": null,
            "display": null,
            "flex": null,
            "flex_flow": null,
            "grid_area": null,
            "grid_auto_columns": null,
            "grid_auto_flow": null,
            "grid_auto_rows": null,
            "grid_column": null,
            "grid_gap": null,
            "grid_row": null,
            "grid_template_areas": null,
            "grid_template_columns": null,
            "grid_template_rows": null,
            "height": null,
            "justify_content": null,
            "justify_items": null,
            "left": null,
            "margin": null,
            "max_height": null,
            "max_width": null,
            "min_height": null,
            "min_width": null,
            "object_fit": null,
            "object_position": null,
            "order": null,
            "overflow": null,
            "overflow_x": null,
            "overflow_y": null,
            "padding": null,
            "right": null,
            "top": null,
            "visibility": null,
            "width": null
          }
        },
        "7cdaf642f74c4a739a2d5acfe8cf10a5": {
          "model_module": "@jupyter-widgets/controls",
          "model_name": "DescriptionStyleModel",
          "model_module_version": "1.5.0",
          "state": {
            "_model_module": "@jupyter-widgets/controls",
            "_model_module_version": "1.5.0",
            "_model_name": "DescriptionStyleModel",
            "_view_count": null,
            "_view_module": "@jupyter-widgets/base",
            "_view_module_version": "1.2.0",
            "_view_name": "StyleView",
            "description_width": ""
          }
        },
        "3135311328384f508c98dec0f28c81c1": {
          "model_module": "@jupyter-widgets/base",
          "model_name": "LayoutModel",
          "model_module_version": "1.2.0",
          "state": {
            "_model_module": "@jupyter-widgets/base",
            "_model_module_version": "1.2.0",
            "_model_name": "LayoutModel",
            "_view_count": null,
            "_view_module": "@jupyter-widgets/base",
            "_view_module_version": "1.2.0",
            "_view_name": "LayoutView",
            "align_content": null,
            "align_items": null,
            "align_self": null,
            "border": null,
            "bottom": null,
            "display": null,
            "flex": null,
            "flex_flow": null,
            "grid_area": null,
            "grid_auto_columns": null,
            "grid_auto_flow": null,
            "grid_auto_rows": null,
            "grid_column": null,
            "grid_gap": null,
            "grid_row": null,
            "grid_template_areas": null,
            "grid_template_columns": null,
            "grid_template_rows": null,
            "height": null,
            "justify_content": null,
            "justify_items": null,
            "left": null,
            "margin": null,
            "max_height": null,
            "max_width": null,
            "min_height": null,
            "min_width": null,
            "object_fit": null,
            "object_position": null,
            "order": null,
            "overflow": null,
            "overflow_x": null,
            "overflow_y": null,
            "padding": null,
            "right": null,
            "top": null,
            "visibility": null,
            "width": null
          }
        },
        "cf9aa917f854435e9ead0278d74fd955": {
          "model_module": "@jupyter-widgets/controls",
          "model_name": "ProgressStyleModel",
          "model_module_version": "1.5.0",
          "state": {
            "_model_module": "@jupyter-widgets/controls",
            "_model_module_version": "1.5.0",
            "_model_name": "ProgressStyleModel",
            "_view_count": null,
            "_view_module": "@jupyter-widgets/base",
            "_view_module_version": "1.2.0",
            "_view_name": "StyleView",
            "bar_color": null,
            "description_width": ""
          }
        },
        "1b353514e36c445eaf343fd607e8e077": {
          "model_module": "@jupyter-widgets/base",
          "model_name": "LayoutModel",
          "model_module_version": "1.2.0",
          "state": {
            "_model_module": "@jupyter-widgets/base",
            "_model_module_version": "1.2.0",
            "_model_name": "LayoutModel",
            "_view_count": null,
            "_view_module": "@jupyter-widgets/base",
            "_view_module_version": "1.2.0",
            "_view_name": "LayoutView",
            "align_content": null,
            "align_items": null,
            "align_self": null,
            "border": null,
            "bottom": null,
            "display": null,
            "flex": null,
            "flex_flow": null,
            "grid_area": null,
            "grid_auto_columns": null,
            "grid_auto_flow": null,
            "grid_auto_rows": null,
            "grid_column": null,
            "grid_gap": null,
            "grid_row": null,
            "grid_template_areas": null,
            "grid_template_columns": null,
            "grid_template_rows": null,
            "height": null,
            "justify_content": null,
            "justify_items": null,
            "left": null,
            "margin": null,
            "max_height": null,
            "max_width": null,
            "min_height": null,
            "min_width": null,
            "object_fit": null,
            "object_position": null,
            "order": null,
            "overflow": null,
            "overflow_x": null,
            "overflow_y": null,
            "padding": null,
            "right": null,
            "top": null,
            "visibility": null,
            "width": null
          }
        },
        "3a1a6a976b4847358e7d4ec3b92df4a1": {
          "model_module": "@jupyter-widgets/controls",
          "model_name": "DescriptionStyleModel",
          "model_module_version": "1.5.0",
          "state": {
            "_model_module": "@jupyter-widgets/controls",
            "_model_module_version": "1.5.0",
            "_model_name": "DescriptionStyleModel",
            "_view_count": null,
            "_view_module": "@jupyter-widgets/base",
            "_view_module_version": "1.2.0",
            "_view_name": "StyleView",
            "description_width": ""
          }
        }
      }
    }
  },
  "nbformat": 4,
  "nbformat_minor": 0
}